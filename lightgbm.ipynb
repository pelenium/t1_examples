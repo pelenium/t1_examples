{
 "cells": [
  {
   "cell_type": "code",
   "execution_count": null,
   "metadata": {},
   "outputs": [],
   "source": [
    "from lightgbm import LGBMClassifier\n",
    "from sklearn.model_selection import RandomizedSearchCV\n",
    "import numpy as np\n",
    "\n",
    "# Инициализация\n",
    "lgbm_model = LGBMClassifier(random_state=42)\n",
    "\n",
    "# Определение сетки гиперпараметров\n",
    "param_dist_lgbm = {\n",
    "    'n_estimators': [50, 100, 200, 300],  # количество итераций\n",
    "    'learning_rate': [0.01, 0.05, 0.1, 0.2],  # скорость обучения максимальная глубина дерева (-1 означает отсутствие ограничения)\n",
    "    'max_depth': [3, 4, 5, 6, -1], # число листьев (важно для контроля переобучения)\n",
    "    'num_leaves': [20, 31, 40, 50],\n",
    "    'subsample': [0.5, 0.7, 1.0]  # доля выборки для обучения каждого дерева\n",
    "}\n",
    "\n",
    "# Random Search\n",
    "lgbm_random_search = RandomizedSearchCV(\n",
    "    estimator=lgbm_model,\n",
    "    param_distributions=param_dist_lgbm,\n",
    "    n_iter=10,\n",
    "    cv=5,\n",
    "    random_state=42,\n",
    "    scoring='accuracy'\n",
    ")\n",
    "\n",
    "lgbm_random_search.fit(X_train, y_train)\n",
    "print(\"Лучшие параметры LightGBM:\", lgbm_random_search.best_params_)\n",
    "\n",
    "predictions_lgbm = lgbm_random_search.predict(X_test)"
   ]
  }
 ],
 "metadata": {
  "language_info": {
   "name": "python"
  }
 },
 "nbformat": 4,
 "nbformat_minor": 2
}
