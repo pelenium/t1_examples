{
 "cells": [
  {
   "cell_type": "code",
   "execution_count": null,
   "metadata": {},
   "outputs": [],
   "source": [
    "from sklearn.svm import SVC\n",
    "from sklearn.model_selection import RandomizedSearchCV\n",
    "\n",
    "# Инициализация SVM с включенной возможностью предсказания вероятностей\n",
    "model_svm = SVC(probability=True, random_state=42)\n",
    "\n",
    "# Определение сетки гиперпараметров для SVM\n",
    "param_dist_svm = {\n",
    "    'C': np.logspace(-3, 3, 10),         # Диапазон значений регуляризации\n",
    "    'gamma': np.logspace(-4, 1, 10),       # Диапазон для параметра ядра gamma\n",
    "    'kernel': ['rbf', 'linear', 'poly'],   # Выбор ядра\n",
    "    'degree': [2, 3, 4]                    # Степень для полиномиального ядра (используется только, если kernel='poly')\n",
    "}\n",
    "\n",
    "random_search_svm = RandomizedSearchCV(\n",
    "    estimator=model_svm,\n",
    "    param_distributions=param_dist_svm,\n",
    "    n_iter=10,\n",
    "    cv=5,\n",
    "    random_state=42,\n",
    "    scoring='accuracy'\n",
    ")\n",
    "\n",
    "random_search_svm.fit(X_train, y_train)\n",
    "print(\"Лучшие параметры для SVM:\", random_search_svm.best_params_)\n",
    "\n",
    "# Предсказание на тестовой выборке\n",
    "predictions_svm = random_search_svm.predict(X_test)\n"
   ]
  }
 ],
 "metadata": {
  "language_info": {
   "name": "python"
  }
 },
 "nbformat": 4,
 "nbformat_minor": 2
}
