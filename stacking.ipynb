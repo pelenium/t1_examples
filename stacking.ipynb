{
 "cells": [
  {
   "cell_type": "code",
   "execution_count": null,
   "metadata": {},
   "outputs": [],
   "source": [
    "from sklearn.ensemble import StackingClassifier\n",
    "from sklearn.linear_model import LogisticRegression\n",
    "\n",
    "# Инициализируем базовые модели \n",
    "gb_model = GradientBoostingClassifier(random_state=42, n_estimators=200, learning_rate=0.1, max_depth=4)\n",
    "xgb_model = XGBClassifier(random_state=42, use_label_encoder=False, eval_metric='logloss', n_estimators=150, learning_rate=0.1, max_depth=4)\n",
    "cat_model = CatBoostClassifier(random_state=42, verbose=0, iterations=200, learning_rate=0.1, depth=4)\n",
    "lgbm_model = LGBMClassifier(random_state=42, n_estimators=150, learning_rate=0.1, max_depth=4)\n",
    "\n",
    "# Финальная модель может быть логистической регрессией, решающим деревом и т.д.\n",
    "meta_model = LogisticRegression()\n",
    "\n",
    "# Создаем ансамбль с помощью стекинга\n",
    "stacking_ensemble = StackingClassifier(\n",
    "    estimators=[\n",
    "        ('gb', gb_model),\n",
    "        ('xgb', xgb_model),\n",
    "        ('cat', cat_model),\n",
    "        ('lgbm', lgbm_model)\n",
    "    ],\n",
    "    final_estimator=meta_model,  # Мета-модель, обучающаяся на предсказаниях базовых моделей\n",
    "    cv=5                         # Количество фолдов для кросс-валидации при генерации предсказаний\n",
    ")\n",
    "\n",
    "# Обучаем модель\n",
    "stacking_ensemble.fit(X_train, y_train)\n",
    "\n",
    "# Получаем предсказания\n",
    "predictions_stacking = stacking_ensemble.predict(X_test)\n",
    "print(\"Предсказания StackingClassifier:\", predictions_stacking)\n"
   ]
  }
 ],
 "metadata": {
  "language_info": {
   "name": "python"
  }
 },
 "nbformat": 4,
 "nbformat_minor": 2
}
