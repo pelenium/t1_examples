{
 "cells": [
  {
   "cell_type": "code",
   "execution_count": null,
   "metadata": {},
   "outputs": [],
   "source": [
    "from catboost import CatBoostClassifier\n",
    "from sklearn.model_selection import RandomizedSearchCV\n",
    "import numpy as np\n",
    "\n",
    "# Инициализация модели CatBoost с отключенным выводом (verbose=0)\n",
    "cat_model = CatBoostClassifier(random_state=42, verbose=0)\n",
    "\n",
    "# Определение сетки гиперпараметров для CatBoost\n",
    "# Изменяйте:\n",
    "# - 'iterations': число итераций (деревьев)\n",
    "# - 'learning_rate': скорость обучения\n",
    "# - 'depth': глубина дерева\n",
    "# - 'l2_leaf_reg': коэффициент L2-регуляризации\n",
    "# - 'border_count': количество бинов для непрерывных признаков\n",
    "param_dist_cat = {\n",
    "    'iterations': [100, 200, 300],\n",
    "    'learning_rate': [0.01, 0.05, 0.1, 0.2],\n",
    "    'depth': [3, 4, 5, 6],\n",
    "    'l2_leaf_reg': [1, 3, 5, 7, 9],\n",
    "    'border_count': [32, 64, 128]\n",
    "}\n",
    "\n",
    "# Настройка RandomizedSearchCV для CatBoost\n",
    "cat_random_search = RandomizedSearchCV(\n",
    "    estimator=cat_model,\n",
    "    param_distributions=param_dist_cat,\n",
    "    n_iter=10,\n",
    "    cv=5,\n",
    "    random_state=42,\n",
    "    scoring='accuracy'\n",
    ")\n",
    "\n",
    "cat_random_search.fit(X_train, y_train)\n",
    "print(\"Лучшие параметры CatBoostClassifier:\", cat_random_search.best_params_)\n",
    "\n",
    "# Предсказание на тестовой выборке\n",
    "predictions_cat = cat_random_search.predict(X_test)\n"
   ]
  }
 ],
 "metadata": {
  "kernelspec": {
   "display_name": "Python 3",
   "language": "python",
   "name": "python3"
  },
  "language_info": {
   "name": "python",
   "version": "3.12.8"
  }
 },
 "nbformat": 4,
 "nbformat_minor": 2
}
