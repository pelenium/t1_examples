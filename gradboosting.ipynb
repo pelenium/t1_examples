{
 "cells": [
  {
   "cell_type": "code",
   "execution_count": null,
   "metadata": {},
   "outputs": [],
   "source": [
    "from sklearn.ensemble import GradientBoostingClassifier\n",
    "from sklearn.model_selection import RandomizedSearchCV\n",
    "import numpy as np\n",
    "\n",
    "# Инициализация модели\n",
    "gb_model = GradientBoostingClassifier(random_state=42)\n",
    "\n",
    "# Определение сетки гиперпараметров\n",
    "param_dist_gb = {\n",
    "    'n_estimators': [50, 100, 200, 300],  # количество слабых моделей (деревьев)\n",
    "    'learning_rate': [0.01, 0.05, 0.1, 0.2],  # скорость обучения (важно для контроля переобучения)\n",
    "    'max_depth': [3, 4, 5, 6],  # максимальная глубина каждого дерева\n",
    "    'subsample': [0.5, 0.7, 1.0],  # доля выборки для каждого дерева (для увеличения разнообразия)\n",
    "    'min_samples_split': [2, 5, 10]  # минимальное количество образцов для разделения узла\n",
    "}\n",
    "\n",
    "# Настройка RandomizedSearchCV\n",
    "gb_random_search = RandomizedSearchCV(\n",
    "    estimator=gb_model,\n",
    "    param_distributions=param_dist_gb,\n",
    "    n_iter=10,           # Количество случайных комбинаций параметров (увеличьте для более тщательного поиска)\n",
    "    cv=5,                # Количество фолдов для кросс-валидации\n",
    "    random_state=42,\n",
    "    scoring='accuracy'   # можно изменить, например, на 'roc_auc'\n",
    ")\n",
    "\n",
    "gb_random_search.fit(X_train, y_train)\n",
    "print(\"Лучшие параметры GradientBoostingClassifier:\", gb_random_search.best_params_)\n",
    "\n",
    "predictions_gb = gb_random_search.predict(X_test)"
   ]
  }
 ],
 "metadata": {
  "language_info": {
   "name": "python"
  }
 },
 "nbformat": 4,
 "nbformat_minor": 2
}
