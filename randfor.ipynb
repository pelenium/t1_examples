{
 "cells": [
  {
   "cell_type": "code",
   "execution_count": null,
   "metadata": {},
   "outputs": [],
   "source": [
    "from sklearn.ensemble import RandomForestClassifier\n",
    "from sklearn.model_selection import RandomizedSearchCV\n",
    "\n",
    "# Инициализация модели случайного леса\n",
    "model_rf = RandomForestClassifier(random_state=42)\n",
    "\n",
    "# Определение сетки гиперпараметров для случайного леса\n",
    "# Подберите значения в зависимости от вычислительных ресурсов и задачи.\n",
    "param_dist_rf = {\n",
    "    'n_estimators': [50, 100, 200, 500],   # Количество деревьев в лесу\n",
    "    'max_depth': [None] + list(range(3, 20)),  # Максимальная глубина деревьев\n",
    "    # Минимальное число образцов для разделения узла\n",
    "    'min_samples_split': [2, 5, 10],\n",
    "    # Минимальное число образцов в листе\n",
    "    'min_samples_leaf': [1, 2, 4],\n",
    "    # Использование bootstrap-выборок: True или False\n",
    "    'bootstrap': [True, False]\n",
    "}\n",
    "\n",
    "random_search_rf = RandomizedSearchCV(\n",
    "    estimator=model_rf,\n",
    "    param_distributions=param_dist_rf,\n",
    "    n_iter=10,\n",
    "    cv=5,\n",
    "    random_state=42,\n",
    "    scoring='accuracy'\n",
    ")\n",
    "\n",
    "random_search_rf.fit(X_train, y_train)\n",
    "print(\"Лучшие параметры для случайного леса:\", random_search_rf.best_params_)\n",
    "\n",
    "# Предсказание на тестовой выборке\n",
    "predictions_rf = random_search_rf.predict(X_test)"
   ]
  }
 ],
 "metadata": {
  "kernelspec": {
   "display_name": "Python 3",
   "language": "python",
   "name": "python3"
  },
  "language_info": {
   "name": "python",
   "version": "3.12.8"
  }
 },
 "nbformat": 4,
 "nbformat_minor": 2
}
