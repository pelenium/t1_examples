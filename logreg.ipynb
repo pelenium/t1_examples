{
 "cells": [
  {
   "cell_type": "code",
   "execution_count": null,
   "metadata": {},
   "outputs": [],
   "source": [
    "import numpy as np\n",
    "from sklearn.linear_model import LogisticRegression\n",
    "from sklearn.model_selection import RandomizedSearchCV\n",
    "\n",
    "# Инициализация\n",
    "model_logreg = LogisticRegression(max_iter=1000)\n",
    "\n",
    "# Определение сетки гиперпараметров для логистической регрессии\n",
    "param_dist_logreg = {\n",
    "    'C': np.logspace(-4, 4, 20),          # Регуляризация: диапазон значений от 1e-4 до 1e4\n",
    "    'penalty': ['l1', 'l2'],              # Тип штрафа: l1 или l2\n",
    "    'solver': ['liblinear', 'saga']       # Алгоритмы оптимизации (учтите, что l1 не поддерживается всеми solvers)\n",
    "}\n",
    "\n",
    "# Настройка RandomizedSearchCV\n",
    "random_search_logreg = RandomizedSearchCV(\n",
    "    estimator=model_logreg,\n",
    "    param_distributions=param_dist_logreg,\n",
    "    n_iter=10,           # Количество случайных комбинаций параметров; можно увеличить для более тщательного поиска\n",
    "    cv=5,                # Количество разбиений для кросс-валидации\n",
    "    random_state=42,\n",
    "    scoring='accuracy'   # Измените метрику, если требуется (например, 'roc_auc' для оценки вероятностей)\n",
    ")\n",
    "\n",
    "random_search_logreg.fit(X_train, y_train)\n",
    "print(\"Лучшие параметры для логистической регрессии:\", random_search_logreg.best_params_)\n",
    "\n",
    "predictions_logreg = random_search_logreg.predict(X_test)\n"
   ]
  }
 ],
 "metadata": {
  "language_info": {
   "name": "python"
  }
 },
 "nbformat": 4,
 "nbformat_minor": 2
}
