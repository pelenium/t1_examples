{
 "cells": [
  {
   "cell_type": "code",
   "execution_count": null,
   "metadata": {},
   "outputs": [],
   "source": [
    "from sklearn.neural_network import MLPClassifier\n",
    "from sklearn.model_selection import RandomizedSearchCV\n",
    "import numpy as np\n",
    "\n",
    "model_mlp = MLPClassifier(max_iter=300, random_state=42)\n",
    "\n",
    "# Определение сетки гиперпараметров для MLP\n",
    "param_dist_mlp = {\n",
    "    'hidden_layer_sizes': [(50,), (100,), (50, 50), (100, 50), (100, 100)],  # Структура сети (число нейронов и слоёв)\n",
    "    'activation': ['tanh', 'relu'],    # Функция активации\n",
    "    'alpha': np.logspace(-4, -1, 10),   # Регуляризация: значение alpha\n",
    "    'learning_rate': ['constant', 'adaptive']  # Стратегия изменения скорости обучения\n",
    "}\n",
    "\n",
    "random_search_mlp = RandomizedSearchCV(\n",
    "    estimator=model_mlp,\n",
    "    param_distributions=param_dist_mlp,\n",
    "    n_iter=10,\n",
    "    cv=5,\n",
    "    random_state=42,\n",
    "    scoring='accuracy'\n",
    ")\n",
    "\n",
    "random_search_mlp.fit(X_train, y_train)\n",
    "print(\"Лучшие параметры для MLP:\", random_search_mlp.best_params_)\n",
    "\n",
    "# Предсказание на тестовой выборке\n",
    "predictions_mlp = random_search_mlp.predict(X_test)\n"
   ]
  }
 ],
 "metadata": {
  "language_info": {
   "name": "python"
  }
 },
 "nbformat": 4,
 "nbformat_minor": 2
}
