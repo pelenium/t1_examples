{
 "cells": [
  {
   "cell_type": "code",
   "execution_count": null,
   "metadata": {},
   "outputs": [],
   "source": [
    "from sklearn.tree import DecisionTreeClassifier\n",
    "from sklearn.model_selection import RandomizedSearchCV\n",
    "\n",
    "# Инициализация\n",
    "model_tree = DecisionTreeClassifier(random_state=42)\n",
    "\n",
    "# Определение сетки гиперпараметров\n",
    "param_dist_tree = {\n",
    "    'max_depth': [None] + list(range(3, 20)),  # Максимальная глубина дерева; None означает отсутствие ограничения\n",
    "    'min_samples_split': np.linspace(0.1, 1.0, 10),  # Минимальная доля или число образцов для разделения узла\n",
    "    'min_samples_leaf': np.linspace(0.05, 0.5, 10),  # Минимальное число образцов в листе\n",
    "    'criterion': ['gini', 'entropy']           # Функция оценки разбиения: gini или entropy\n",
    "}\n",
    "\n",
    "random_search_tree = RandomizedSearchCV(\n",
    "    estimator=model_tree,\n",
    "    param_distributions=param_dist_tree,\n",
    "    n_iter=10,  # Количество итераций поиска\n",
    "    cv=5,\n",
    "    random_state=42,\n",
    "    scoring='accuracy'\n",
    ")\n",
    "\n",
    "random_search_tree.fit(X_train, y_train)\n",
    "print(\"Лучшие параметры для решающего дерева:\", random_search_tree.best_params_)\n",
    "\n",
    "# Предсказание на тестовой выборке\n",
    "predictions_tree = random_search_tree.predict(X_test)\n"
   ]
  }
 ],
 "metadata": {
  "language_info": {
   "name": "python"
  }
 },
 "nbformat": 4,
 "nbformat_minor": 2
}
