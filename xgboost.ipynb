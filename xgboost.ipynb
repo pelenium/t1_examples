{
 "cells": [
  {
   "cell_type": "code",
   "execution_count": null,
   "metadata": {},
   "outputs": [],
   "source": [
    "from xgboost import XGBClassifier\n",
    "from sklearn.model_selection import RandomizedSearchCV\n",
    "import numpy as np\n",
    "\n",
    "xgb_model = XGBClassifier(use_label_encoder=False, eval_metric='logloss', random_state=42)\n",
    "\n",
    "# Параметры:\n",
    "# - 'n_estimators': число деревьев\n",
    "# - 'learning_rate': скорость обучения\n",
    "# - 'max_depth': максимальная глубина дерева\n",
    "# - 'subsample': доля выборки для каждого дерева\n",
    "# - 'colsample_bytree': доля признаков для каждого дерева\n",
    "# - 'gamma': минимальное уменьшение ошибки для разделения\n",
    "param_dist_xgb = {\n",
    "    'n_estimators': [50, 100, 200, 300],\n",
    "    'learning_rate': [0.01, 0.05, 0.1, 0.2],\n",
    "    'max_depth': [3, 4, 5, 6],\n",
    "    'subsample': [0.5, 0.7, 1.0],\n",
    "    'colsample_bytree': [0.5, 0.7, 1.0],\n",
    "    'gamma': [0, 0.1, 0.2, 0.3]\n",
    "}\n",
    "\n",
    "# Настройка RandomizedSearchCV для XGBoost\n",
    "xgb_random_search = RandomizedSearchCV(\n",
    "    estimator=xgb_model,\n",
    "    param_distributions=param_dist_xgb,\n",
    "    n_iter=10,\n",
    "    cv=5,\n",
    "    random_state=42,\n",
    "    scoring='accuracy'\n",
    ")\n",
    "\n",
    "xgb_random_search.fit(X_train, y_train)\n",
    "print(\"Лучшие параметры XGBoost:\", xgb_random_search.best_params_)\n",
    "\n",
    "# Предсказание на тестовой выборке\n",
    "predictions_xgb = xgb_random_search.predict(X_test)\n"
   ]
  }
 ],
 "metadata": {
  "language_info": {
   "name": "python"
  }
 },
 "nbformat": 4,
 "nbformat_minor": 2
}
